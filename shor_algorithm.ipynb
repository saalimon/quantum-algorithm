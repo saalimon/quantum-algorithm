{
  "nbformat": 4,
  "nbformat_minor": 0,
  "metadata": {
    "colab": {
      "name": "shor_algorithm.ipynb",
      "provenance": [],
      "include_colab_link": true
    },
    "kernelspec": {
      "name": "python3",
      "display_name": "Python 3"
    }
  },
  "cells": [
    {
      "cell_type": "markdown",
      "metadata": {
        "id": "view-in-github",
        "colab_type": "text"
      },
      "source": [
        "<a href=\"https://colab.research.google.com/github/saalimon/quantum-algorithm/blob/master/shor_algorithm.ipynb\" target=\"_parent\"><img src=\"https://colab.research.google.com/assets/colab-badge.svg\" alt=\"Open In Colab\"/></a>"
      ]
    },
    {
      "cell_type": "markdown",
      "metadata": {
        "id": "ZRO0P5s4f0M_",
        "colab_type": "text"
      },
      "source": [
        "# Homework AJ.Bic: \n",
        "\n",
        "Implement Shor's algorithm to solve prime factor of 32 bits number using brute force in step#2. period finding. your program will take a number which is a product of two primes. Then you will produce two numbers which are the two primes. You can submit your program and how to compile it on leb2 which will be created later. The due date is going to be Oct 15, 2019. Hope that three weeks should be enough to finish the program."
      ]
    },
    {
      "cell_type": "code",
      "metadata": {
        "id": "Fv0fl04dlQae",
        "colab_type": "code",
        "colab": {}
      },
      "source": [
        "def computeGCD(x, y): \n",
        "   while(y): \n",
        "       x, y = y, x % y \n",
        "  \n",
        "   return x "
      ],
      "execution_count": 0,
      "outputs": []
    },
    {
      "cell_type": "code",
      "metadata": {
        "id": "Oqj1uAXNngmw",
        "colab_type": "code",
        "colab": {}
      },
      "source": [
        "def isPrime(n) : \n",
        "    # Corner cases \n",
        "    if (n <= 1) : \n",
        "        return False\n",
        "    if (n <= 3) : \n",
        "        return True\n",
        "  \n",
        "    # This is checked so that we can skip  \n",
        "    # middle five numbers in below loop \n",
        "    if (n % 2 == 0 or n % 3 == 0) : \n",
        "        return False\n",
        "  \n",
        "    i = 5\n",
        "    while(i * i <= n) : \n",
        "        if (n % i == 0 or n % (i + 2) == 0) : \n",
        "            return False\n",
        "        i = i + 6\n",
        "  \n",
        "    return True"
      ],
      "execution_count": 0,
      "outputs": []
    },
    {
      "cell_type": "code",
      "metadata": {
        "id": "S4d-E4_2hhwk",
        "colab_type": "code",
        "outputId": "09b1252d-73c7-4c38-9497-8dbd27e072ef",
        "colab": {
          "base_uri": "https://localhost:8080/",
          "height": 969
        }
      },
      "source": [
        "import random \n",
        "isResultPrime = False\n",
        "resultCorrect = False\n",
        "hasUsed = []\n",
        "N = 217\n",
        "while not isResultPrime:\n",
        "  a = random.choice([x for x in range(N) if x not in hasUsed])\n",
        "  hasUsed.append(a)\n",
        "  while computeGCD(a,N) != 1:\n",
        "    a = random.choice([x for x in range(N) if x not in hasUsed])\n",
        "    hasUsed.append(a)\n",
        "  print(\"a=%d,mod=%d\" % (a,computeGCD(a,N)))\n",
        "  i = 1\n",
        "  while (a**i)%N != 1:\n",
        "    i = i+1\n",
        "  r = i\n",
        "  print(\"r=%d\" % r)\n",
        "  print(\"%d,%d\" % ((a**(r/2))-1,(a**(r/2))+1))\n",
        "  p = computeGCD((a**(r/2))-1,N)\n",
        "  q = computeGCD((a**(r/2))+1,N)\n",
        "  print(\"p=%d,q=%d\" % (p,q))\n",
        "  p_isPrime = isPrime(p)\n",
        "  q_isPrime = isPrime(q)\n",
        "  resultCorrect = p*q == N\n",
        "  isResultPrime = p_isPrime & q_isPrime & resultCorrect"
      ],
      "execution_count": 42,
      "outputs": [
        {
          "output_type": "stream",
          "text": [
            "a=145,mod=1\n",
            "r=30\n",
            "263341941760198501108325789204480,263341941760198501108325789204480\n",
            "p=1,q=1\n",
            "a=34,mod=1\n",
            "r=30\n",
            "93795878551873644396544,93795878551873644396544\n",
            "p=7,q=7\n",
            "a=41,mod=1\n",
            "r=30\n",
            "1555098314991537934565376,1555098314991537934565376\n",
            "p=1,q=1\n",
            "a=36,mod=1\n",
            "r=3\n",
            "215,217\n",
            "p=1,q=217\n",
            "a=128,mod=1\n",
            "r=15\n",
            "6369051672525772,6369051672525774\n",
            "p=1,q=1\n",
            "a=19,mod=1\n",
            "r=30\n",
            "15181127029874798592,15181127029874798592\n",
            "p=1,q=1\n",
            "a=83,mod=1\n",
            "r=30\n",
            "61118316854865826259536969728,61118316854865826259536969728\n",
            "p=1,q=1\n",
            "a=13,mod=1\n",
            "r=30\n",
            "51185893014090760,51185893014090760\n",
            "p=1,q=1\n",
            "a=53,mod=1\n",
            "r=30\n",
            "73137151889028617401794560,73137151889028617401794560\n",
            "p=1,q=1\n",
            "a=43,mod=1\n",
            "r=30\n",
            "3177070365797955464593408,3177070365797955464593408\n",
            "p=1,q=1\n",
            "a=208,mod=1\n",
            "r=30\n",
            "59013316788450616601163543095541760,59013316788450616601163543095541760\n",
            "p=1,q=1\n",
            "a=108,mod=1\n",
            "r=30\n",
            "3172169114198268829929358491648,3172169114198268829929358491648\n",
            "p=7,q=7\n",
            "a=33,mod=1\n",
            "r=30\n",
            "59938945498865417060352,59938945498865417060352\n",
            "p=1,q=1\n",
            "a=97,mod=1\n",
            "r=10\n",
            "8587340256,8587340258\n",
            "p=31,q=7\n"
          ],
          "name": "stdout"
        }
      ]
    },
    {
      "cell_type": "code",
      "metadata": {
        "id": "Cx-tkAPAjPsA",
        "colab_type": "code",
        "colab": {}
      },
      "source": [
        ""
      ],
      "execution_count": 0,
      "outputs": []
    }
  ]
}