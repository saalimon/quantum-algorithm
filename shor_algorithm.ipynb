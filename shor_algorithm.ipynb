{
  "nbformat": 4,
  "nbformat_minor": 0,
  "metadata": {
    "colab": {
      "name": "shor_algorithm.ipynb",
      "provenance": [],
      "include_colab_link": true
    },
    "kernelspec": {
      "name": "python3",
      "display_name": "Python 3"
    }
  },
  "cells": [
    {
      "cell_type": "markdown",
      "metadata": {
        "id": "view-in-github",
        "colab_type": "text"
      },
      "source": [
        "<a href=\"https://colab.research.google.com/github/saalimon/quantum-algorithm/blob/master/shor_algorithm.ipynb\" target=\"_parent\"><img src=\"https://colab.research.google.com/assets/colab-badge.svg\" alt=\"Open In Colab\"/></a>"
      ]
    },
    {
      "cell_type": "markdown",
      "metadata": {
        "id": "ZRO0P5s4f0M_",
        "colab_type": "text"
      },
      "source": [
        "# Homework AJ.Bic: \n",
        "\n",
        "Implement Shor's algorithm to solve prime factor of 32 bits number using brute force in step#2. period finding. your program will take a number which is a product of two primes. Then you will produce two numbers which are the two primes. You can submit your program and how to compile it on leb2 which will be created later. The due date is going to be Oct 15, 2019. Hope that three weeks should be enough to finish the program."
      ]
    },
    {
      "cell_type": "code",
      "metadata": {
        "id": "Fv0fl04dlQae",
        "colab_type": "code",
        "colab": {}
      },
      "source": [
        "def computeGCD(x, y): \n",
        "   while(y): \n",
        "       x, y = y, x % y \n",
        "  \n",
        "   return x "
      ],
      "execution_count": 0,
      "outputs": []
    },
    {
      "cell_type": "code",
      "metadata": {
        "id": "S4d-E4_2hhwk",
        "colab_type": "code",
        "outputId": "e3ce01b9-52b4-4fca-f271-38539c920ef6",
        "colab": {
          "base_uri": "https://localhost:8080/",
          "height": 85
        }
      },
      "source": [
        "import random \n",
        "\n",
        "N = 417\n",
        "a = random.randint(0,N)\n",
        "while computeGCD(a,N) != 1:\n",
        "  a = random.randint(0,N)\n",
        "print(\"a=%d\" % a)\n",
        "i = 1\n",
        "while (a**i)%N != 1:\n",
        "  i = i+1\n",
        "r = i\n",
        "print(\"r=%d\" % r)\n",
        "print(\"p=%d,q=%d\" % ((a**(r/2))-1,(a**(r/2))+1))\n",
        "p = computeGCD((a**(r/2))-1,N)\n",
        "q = computeGCD((a**(r/2))+1,N)\n",
        "print(\"p=%d,q=%d\" % (p,q))"
      ],
      "execution_count": 0,
      "outputs": [
        {
          "output_type": "stream",
          "text": [
            "a=97\n",
            "r=6\n",
            "p=912672,q=912674\n",
            "p=3,q=139\n"
          ],
          "name": "stdout"
        }
      ]
    },
    {
      "cell_type": "code",
      "metadata": {
        "id": "Cx-tkAPAjPsA",
        "colab_type": "code",
        "colab": {}
      },
      "source": [
        ""
      ],
      "execution_count": 0,
      "outputs": []
    }
  ]
}